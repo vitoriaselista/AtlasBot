{
  "nbformat": 4,
  "nbformat_minor": 0,
  "metadata": {
    "colab": {
      "provenance": [],
      "authorship_tag": "ABX9TyOWPjECfqVw9tEYB/xVdv82",
      "include_colab_link": true
    },
    "kernelspec": {
      "name": "python3",
      "display_name": "Python 3"
    },
    "language_info": {
      "name": "python"
    }
  },
  "cells": [
    {
      "cell_type": "markdown",
      "metadata": {
        "id": "view-in-github",
        "colab_type": "text"
      },
      "source": [
        "<a href=\"https://colab.research.google.com/github/vitoriaselista/AtlasBot/blob/main/TargetSystems.ipynb\" target=\"_parent\"><img src=\"https://colab.research.google.com/assets/colab-badge.svg\" alt=\"Open In Colab\"/></a>"
      ]
    },
    {
      "cell_type": "markdown",
      "source": [
        "# Teste Lógico | Programação\n",
        "***Ana Vitória Selista***\n",
        "> As questões que foram propostas testam habilidades em lógica e programação. Elas foram desafiadoras, mas consegui resolvê-las com sucesso. Acredito que esse tipo de avaliação é importante para medir o conhecimento técnico e a capacidade de resolução de problemas, que são habilidades muito valorizadas no mercado de trabalho atualmente.\n",
        ">\n",
        "> ***Para padronização, as variáveis foram escritas em inglês, com comentários em português***"
      ],
      "metadata": {
        "id": "Qj27c30oA-tI"
      }
    },
    {
      "cell_type": "markdown",
      "source": [
        "1. Observe o trecho de código abaixo: \n",
        "\n",
        " \tint INDICE = 13, SOMA = 0, K = 0; \n",
        "\n",
        " \tenquanto K < INDICE faça \n",
        "\n",
        "\t{ \n",
        "\n",
        "\t\tK = K + 1; \n",
        "\n",
        "\t\tSOMA = SOMA + K; \n",
        "\n",
        "\t} \n",
        "\n",
        "\timprimir(SOMA); "
      ],
      "metadata": {
        "id": "e4AArHP12E5_"
      }
    },
    {
      "cell_type": "markdown",
      "source": [
        "Ao final do processamento, qual será o valor da variável SOMA? \n"
      ],
      "metadata": {
        "id": "n1aCKDP82Ook"
      }
    },
    {
      "cell_type": "code",
      "execution_count": null,
      "metadata": {
        "colab": {
          "base_uri": "https://localhost:8080/"
        },
        "id": "ahguJ3cH2BkE",
        "outputId": "c1d58207-9c18-4935-94ae-39346e5ba6c4"
      },
      "outputs": [
        {
          "output_type": "stream",
          "name": "stdout",
          "text": [
            "91\n"
          ]
        }
      ],
      "source": [
        "indice = 13\n",
        "soma = 0\n",
        "k = 0\n",
        "\n",
        "# Utilizando um loop While para fazer a soma\n",
        "\n",
        "while k < indice:\n",
        "    k = k + 1\n",
        "    soma = soma + k\n",
        "\n",
        "print(soma)\n"
      ]
    },
    {
      "cell_type": "markdown",
      "source": [
        "\n",
        "\n",
        "---\n",
        "\n",
        "\n",
        "2. Dado a sequência de Fibonacci, onde se inicia por 0 e 1 e o próximo valor sempre será a soma dos 2 valores anteriores (exemplo: 0, 1, 1, 2, 3, 5, 8, 13, 21, 34...), escreva um programa na linguagem que desejar onde, informado um número, ele calcule a sequência de Fibonacci e retorne uma mensagem avisando se o número informado pertence ou não a sequência. \n"
      ],
      "metadata": {
        "id": "vYYOTh1Z2f_n"
      }
    },
    {
      "cell_type": "code",
      "source": [
        "def fibonacci(numero):\n",
        "    a, b = 0, 1\n",
        "\n",
        "    while b < numero:\n",
        "        a, b = b, a + b\n",
        "\n",
        "    if b == numero:\n",
        "        return f\"{numero} pertence à sequência de Fibonacci.\"\n",
        "    else:\n",
        "        return f\"{numero} não pertence à sequência de Fibonacci.\"\n",
        "\n",
        "numero = int(input(\"Digite um número inteiro: \"))\n",
        "print(fibonacci(numero))\n"
      ],
      "metadata": {
        "colab": {
          "base_uri": "https://localhost:8080/"
        },
        "id": "ZEs54po52hA8",
        "outputId": "bf0eea88-3adb-416c-da69-ff989063fc38"
      },
      "execution_count": null,
      "outputs": [
        {
          "output_type": "stream",
          "name": "stdout",
          "text": [
            "Digite um número inteiro: 4\n",
            "4 não pertence à sequência de Fibonacci.\n"
          ]
        }
      ]
    },
    {
      "cell_type": "markdown",
      "source": [
        "\n",
        "\n",
        "---\n",
        "\n",
        "\n",
        "3. Descubra a lógica e complete o próximo elemento:  \n",
        "\n",
        "   \n",
        "\n",
        "a) 1, 3, 5, 7, ___  \n",
        "\n",
        "b) 2, 4, 8, 16, 32, 64, ____  \n",
        "\n",
        "c) 0, 1, 4, 9, 16, 25, 36, ____  \n",
        "\n",
        "d) 4, 16, 36, 64, ____  \n",
        "\n",
        "e) 1, 1, 2, 3, 5, 8, ____  \n",
        "\n",
        "f) 2,10, 12, 16, 17, 18, 19, ____  \n"
      ],
      "metadata": {
        "id": "donszsJD2lmZ"
      }
    },
    {
      "cell_type": "code",
      "source": [
        "# a) 1, 3, 5, 7, ___\n",
        "a = [1, 3, 5, 7]\n",
        "a.append(a[-1] + 2)\n",
        "print(a) # [1, 3, 5, 7, 9]\n",
        "#Sequência de 2 em 2\n",
        "\n",
        "# b) 2, 4, 8, 16, 32, 64, ____\n",
        "b = [2, 4, 8, 16, 32, 64]\n",
        "b.append(b[-1] * 2)\n",
        "print(b) # [2, 4, 8, 16, 32, 64, 128]\n",
        "# 2 (primeiro número da lista) é o multiplicador dos números \n",
        "\n",
        "# c) 0, 1, 4, 9, 16, 25, 36, ____\n",
        "c = [0, 1, 4, 9, 16, 25, 36]\n",
        "c.append(c[-1] + 2 * len(c))\n",
        "print(c) # [0, 1, 4, 9, 16, 25, 36, 49]\n",
        "# Tamanho da lista ao quadrado\n",
        "\n",
        "# d) 4, 16, 36, 64, ____\n",
        "d = [4, 16, 36, 64]\n",
        "d.append(d[-1] + (len(d) + 1) ** 2)\n",
        "print(d) # [4, 16, 36, 64, 100]\n",
        "# Elevar o índice ao quadrado e multiplicá-lo por 4\n",
        "\n",
        "\n",
        "# e) 1, 1, 2, 3, 5, 8, ____\n",
        "e = [1, 1, 2, 3, 5, 8]\n",
        "e.append(e[-1] + e[-2])\n",
        "print(e) # [1, 1, 2, 3, 5, 8, 13]\n",
        "# A lógica é somar os dois números anteriores (Fibonacci)\n",
        "\n",
        "# f) 2,10, 12, 16, 17, 18, 19, ____\n",
        "f = [2, 10, 12, 16, 17, 18, 19]\n",
        "f.append(f[-1] + 1)\n",
        "print(f) # [2, 10, 12, 16, 17, 18, 19, 20]\n",
        "# Começa em uma crescente com espaçamento e estabiliza em um PL (Progressão Linear)\n"
      ],
      "metadata": {
        "colab": {
          "base_uri": "https://localhost:8080/"
        },
        "id": "38-sSMb82mwv",
        "outputId": "a7d2a5fb-773e-4621-c6d7-186b238eefd6"
      },
      "execution_count": null,
      "outputs": [
        {
          "output_type": "stream",
          "name": "stdout",
          "text": [
            "[1, 3, 5, 7, 9]\n",
            "[2, 4, 8, 16, 32, 64, 128]\n",
            "[0, 1, 4, 9, 16, 25, 36, 50]\n",
            "[4, 16, 36, 64, 89]\n",
            "[1, 1, 2, 3, 5, 8, 13]\n",
            "[2, 10, 12, 16, 17, 18, 19, 20]\n"
          ]
        }
      ]
    },
    {
      "cell_type": "markdown",
      "source": [
        "\n",
        "\n",
        "---\n",
        "\n",
        "\n",
        "4. Dois veículos (um carro e um caminhão) saem respectivamente de cidades opostas pela mesma rodovia. O carro de Ribeirão Preto em direção a Franca, a uma velocidade constante de 110 km/h e o caminhão de Franca em direção a Ribeirão Preto a uma velocidade constante de 80 km/h. Quando eles se cruzarem na rodovia, qual estará mais próximo a cidade de Ribeirão Preto?  \n"
      ],
      "metadata": {
        "id": "EjpJwtRh2pwb"
      }
    },
    {
      "cell_type": "markdown",
      "source": [
        "IMPORTANTE:  \n",
        "\n",
        "a)            Considerar a distância de 100km entre a cidade de Ribeirão Preto <-> Franca.  \n",
        "\n",
        "b)           Considerar 2 pedágios como obstáculo e que o caminhão leva 5 minutos a mais para passar em cada um deles e o carro possui tag de pedágio (Sem Parar)  \n",
        "\n",
        "c)            Explique como chegou no resultado. \n",
        "\n",
        "   "
      ],
      "metadata": {
        "id": "XKUR8H6i2tJg"
      }
    },
    {
      "cell_type": "code",
      "source": [
        "# Distância entre Ribeirão Preto e Franca (em km)\n",
        "distance = 100\n",
        "\n",
        "# velocidade do carro (em km/h)\n",
        "car_speed = 110\n",
        "\n",
        "# velocidade do caminhão (in km/h)\n",
        "truck_speed = 80\n",
        "\n",
        "# Tempo que o carro leva para percorrer metade da distância (em horas)\n",
        "car_time = distance / (2 * car_speed)\n",
        "\n",
        "# Tempo que o caminhão leva para percorrer metade da distância, + tempo para passar no pedágio\n",
        "truck_time = distance / (2 * truck_speed) + 15 / 60\n",
        "\n",
        "# Checa qual veículo estára mais perto de Ribeirão Preto quando se encontrarem\n",
        "if car_time < truck_time:\n",
        "    print(\"O carro estará mais perto de Ribeirão Preto\")\n",
        "else:\n",
        "    print(\"O caminhão estará mais perto de Ribeirão Preto\")\n"
      ],
      "metadata": {
        "colab": {
          "base_uri": "https://localhost:8080/"
        },
        "id": "RJClnNhn2qak",
        "outputId": "7a638391-7e63-44a5-ac03-d5a98d77c4df"
      },
      "execution_count": null,
      "outputs": [
        {
          "output_type": "stream",
          "name": "stdout",
          "text": [
            "The car will be closer to Ribeirão Preto.\n"
          ]
        }
      ]
    },
    {
      "cell_type": "markdown",
      "source": [
        "\n",
        "\n",
        "---\n",
        "\n",
        "\n",
        "5. Escreva um programa que inverta os caracteres de um string. "
      ],
      "metadata": {
        "id": "jFtHOJ9Q2_gk"
      }
    },
    {
      "cell_type": "markdown",
      "source": [
        "IMPORTANTE: \n",
        "\n",
        "a) Essa string pode ser informada através de qualquer entrada de sua preferência ou pode ser previamente definida no código; \n",
        "\n",
        "b) Evite usar funções prontas, como, por exemplo, reverse; \n"
      ],
      "metadata": {
        "id": "f4EhP5qf3EWw"
      }
    },
    {
      "cell_type": "code",
      "source": [
        "# Exemplo de string\n",
        "string = str(input('> '))\n",
        "\n",
        "# Converter a string para uma lista de caracteres\n",
        "list_of_characters = list(string)\n",
        "\n",
        "# Inverter a lista de caracteres\n",
        "lenght = len(list_of_characters)\n",
        "for i in range(lenght // 2):\n",
        "    j = lenght - i - 1\n",
        "    list_of_characters[i], list_of_characters[j] = list_of_characters[j], list_of_characters[i]\n",
        "\n",
        "# Juntar os caracteres em uma nova string\n",
        "new_str = ''.join(list_of_characters)\n",
        "\n",
        "# Imprimir a nova string\n",
        "print(new_str)\n"
      ],
      "metadata": {
        "colab": {
          "base_uri": "https://localhost:8080/"
        },
        "id": "KV1u6Vvp3ArH",
        "outputId": "d2a6b806-0591-4daf-d99a-06025eaa9d22"
      },
      "execution_count": null,
      "outputs": [
        {
          "output_type": "stream",
          "name": "stdout",
          "text": [
            "> amnjwui323 3\n",
            "3 323iuwjnma\n"
          ]
        }
      ]
    }
  ]
}